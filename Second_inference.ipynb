{
  "nbformat": 4,
  "nbformat_minor": 0,
  "metadata": {
    "colab": {
      "provenance": []
    },
    "kernelspec": {
      "name": "python3",
      "display_name": "Python 3"
    },
    "language_info": {
      "name": "python"
    }
  },
  "cells": [
    {
      "cell_type": "code",
      "source": [
        "!pip install  DSSATTools"
      ],
      "metadata": {
        "colab": {
          "base_uri": "https://localhost:8080/"
        },
        "id": "tBDpzaRdsSwy",
        "outputId": "1d94883d-832a-40fd-bf8e-93a3208628be"
      },
      "execution_count": null,
      "outputs": [
        {
          "output_type": "stream",
          "name": "stdout",
          "text": [
            "Collecting DSSATTools\n",
            "  Downloading DSSATTools-2.1.1-py3-none-any.whl (11.9 MB)\n",
            "\u001b[2K     \u001b[90m━━━━━━━━━━━━━━━━━━━━━━━━━━━━━━━━━━━━━━━━\u001b[0m \u001b[32m11.9/11.9 MB\u001b[0m \u001b[31m24.0 MB/s\u001b[0m eta \u001b[36m0:00:00\u001b[0m\n",
            "\u001b[?25hRequirement already satisfied: attrs in /usr/local/lib/python3.10/dist-packages (from DSSATTools) (23.1.0)\n",
            "Requirement already satisfied: certifi in /usr/local/lib/python3.10/dist-packages (from DSSATTools) (2023.7.22)\n",
            "Requirement already satisfied: chardet in /usr/local/lib/python3.10/dist-packages (from DSSATTools) (5.2.0)\n",
            "Requirement already satisfied: charset-normalizer in /usr/local/lib/python3.10/dist-packages (from DSSATTools) (3.3.2)\n",
            "Collecting coverage (from DSSATTools)\n",
            "  Downloading coverage-7.3.2-cp310-cp310-manylinux_2_5_x86_64.manylinux1_x86_64.manylinux_2_17_x86_64.manylinux2014_x86_64.whl (227 kB)\n",
            "\u001b[2K     \u001b[90m━━━━━━━━━━━━━━━━━━━━━━━━━━━━━━━━━━━━━━━━\u001b[0m \u001b[32m227.5/227.5 kB\u001b[0m \u001b[31m24.4 MB/s\u001b[0m eta \u001b[36m0:00:00\u001b[0m\n",
            "\u001b[?25hCollecting fortranformat (from DSSATTools)\n",
            "  Downloading fortranformat-2.0.0.tar.gz (22 kB)\n",
            "  Preparing metadata (setup.py) ... \u001b[?25l\u001b[?25hdone\n",
            "Requirement already satisfied: idna in /usr/local/lib/python3.10/dist-packages (from DSSATTools) (3.4)\n",
            "Requirement already satisfied: iniconfig in /usr/local/lib/python3.10/dist-packages (from DSSATTools) (2.0.0)\n",
            "Requirement already satisfied: numpy in /usr/local/lib/python3.10/dist-packages (from DSSATTools) (1.23.5)\n",
            "Requirement already satisfied: packaging in /usr/local/lib/python3.10/dist-packages (from DSSATTools) (23.2)\n",
            "Requirement already satisfied: pandas in /usr/local/lib/python3.10/dist-packages (from DSSATTools) (1.5.3)\n",
            "Requirement already satisfied: pluggy in /usr/local/lib/python3.10/dist-packages (from DSSATTools) (1.3.0)\n",
            "Collecting py (from DSSATTools)\n",
            "  Downloading py-1.11.0-py2.py3-none-any.whl (98 kB)\n",
            "\u001b[2K     \u001b[90m━━━━━━━━━━━━━━━━━━━━━━━━━━━━━━━━━━━━━━━━\u001b[0m \u001b[32m98.7/98.7 kB\u001b[0m \u001b[31m13.2 MB/s\u001b[0m eta \u001b[36m0:00:00\u001b[0m\n",
            "\u001b[?25hRequirement already satisfied: pyparsing in /usr/local/lib/python3.10/dist-packages (from DSSATTools) (3.1.1)\n",
            "Requirement already satisfied: pytest in /usr/local/lib/python3.10/dist-packages (from DSSATTools) (7.4.3)\n",
            "Collecting pytest-cov (from DSSATTools)\n",
            "  Downloading pytest_cov-4.1.0-py3-none-any.whl (21 kB)\n",
            "Requirement already satisfied: python-dateutil in /usr/local/lib/python3.10/dist-packages (from DSSATTools) (2.8.2)\n",
            "Requirement already satisfied: pytz in /usr/local/lib/python3.10/dist-packages (from DSSATTools) (2023.3.post1)\n",
            "Requirement already satisfied: requests in /usr/local/lib/python3.10/dist-packages (from DSSATTools) (2.31.0)\n",
            "Collecting rosetta-soil (from DSSATTools)\n",
            "  Downloading rosetta_soil-0.1.1-py3-none-any.whl (5.2 MB)\n",
            "\u001b[2K     \u001b[90m━━━━━━━━━━━━━━━━━━━━━━━━━━━━━━━━━━━━━━━━\u001b[0m \u001b[32m5.2/5.2 MB\u001b[0m \u001b[31m56.2 MB/s\u001b[0m eta \u001b[36m0:00:00\u001b[0m\n",
            "\u001b[?25hRequirement already satisfied: six in /usr/local/lib/python3.10/dist-packages (from DSSATTools) (1.16.0)\n",
            "Requirement already satisfied: toml in /usr/local/lib/python3.10/dist-packages (from DSSATTools) (0.10.2)\n",
            "Requirement already satisfied: tomli in /usr/local/lib/python3.10/dist-packages (from DSSATTools) (2.0.1)\n",
            "Requirement already satisfied: exceptiongroup>=1.0.0rc8 in /usr/local/lib/python3.10/dist-packages (from pytest->DSSATTools) (1.1.3)\n",
            "Requirement already satisfied: urllib3<3,>=1.21.1 in /usr/local/lib/python3.10/dist-packages (from requests->DSSATTools) (2.0.7)\n",
            "Building wheels for collected packages: fortranformat\n",
            "  Building wheel for fortranformat (setup.py) ... \u001b[?25l\u001b[?25hdone\n",
            "  Created wheel for fortranformat: filename=fortranformat-2.0.0-py3-none-any.whl size=24536 sha256=47219d95a0f6819fe729e0871a69bd48e0bf15fcf749723a15dc9627f6c96d21\n",
            "  Stored in directory: /root/.cache/pip/wheels/02/ca/38/f24153dd3ad835514c1cc3fc1d95e461fd120c7d6d308942a8\n",
            "Successfully built fortranformat\n",
            "Installing collected packages: fortranformat, rosetta-soil, py, coverage, pytest-cov, DSSATTools\n",
            "Successfully installed DSSATTools-2.1.1 coverage-7.3.2 fortranformat-2.0.0 py-1.11.0 pytest-cov-4.1.0 rosetta-soil-0.1.1\n"
          ]
        }
      ]
    },
    {
      "cell_type": "code",
      "source": [
        "!pip install meteostat"
      ],
      "metadata": {
        "colab": {
          "base_uri": "https://localhost:8080/"
        },
        "id": "lLX0UmUk5hLi",
        "outputId": "ff523f2a-932d-43bf-9c8d-d69b17ab9532"
      },
      "execution_count": null,
      "outputs": [
        {
          "output_type": "stream",
          "name": "stdout",
          "text": [
            "Requirement already satisfied: meteostat in /usr/local/lib/python3.10/dist-packages (1.6.7)\n",
            "Requirement already satisfied: pandas>=1.1 in /usr/local/lib/python3.10/dist-packages (from meteostat) (1.5.3)\n",
            "Requirement already satisfied: pytz in /usr/local/lib/python3.10/dist-packages (from meteostat) (2023.3.post1)\n",
            "Requirement already satisfied: numpy in /usr/local/lib/python3.10/dist-packages (from meteostat) (1.23.5)\n",
            "Requirement already satisfied: python-dateutil>=2.8.1 in /usr/local/lib/python3.10/dist-packages (from pandas>=1.1->meteostat) (2.8.2)\n",
            "Requirement already satisfied: six>=1.5 in /usr/local/lib/python3.10/dist-packages (from python-dateutil>=2.8.1->pandas>=1.1->meteostat) (1.16.0)\n"
          ]
        }
      ]
    },
    {
      "cell_type": "code",
      "execution_count": null,
      "metadata": {
        "id": "wr4DflrVfXUQ"
      },
      "outputs": [],
      "source": [
        "import numpy as np\n",
        "import pandas as pd\n",
        "import math\n",
        "from DSSATTools import (\n",
        "    Crop, SoilProfile, Weather, Management, DSSAT, SoilLayer,\n",
        "    available_cultivars\n",
        ")\n",
        "import DSSATTools\n",
        "import pandas as pd\n",
        "from datetime import datetime, timedelta\n",
        "import numpy as np\n",
        "from meteostat import Point, Daily"
      ]
    },
    {
      "cell_type": "code",
      "source": [
        "DSSATTools.weather.list_weather_variables()"
      ],
      "metadata": {
        "colab": {
          "base_uri": "https://localhost:8080/"
        },
        "id": "-2wCNLeJfoRn",
        "outputId": "58dec95d-9fca-4f28-9794-2fb8885cd5eb"
      },
      "execution_count": null,
      "outputs": [
        {
          "output_type": "stream",
          "name": "stdout",
          "text": [
            "DATE: Date, year + days from Jan. 1\n",
            "SRAD: Daily solar radiation, MJ m-2 day-1\n",
            "TMAX: Daily temperature maximum, C\n",
            "TMIN: Daily temperature minimum, C\n",
            "RAIN: Daily rainfall (incl. snow), mm day-1\n",
            "DEWP: Daily dewpoint temperature average, C\n",
            "WIND: Daily wind speed (km d-1)\n",
            "PAR: Daily photosynthetic radiation, moles m-2 day-1\n",
            "EVAP: Daily pan evaporation (mm d-1)\n",
            "RHUM: Relative humidity average, %\n"
          ]
        }
      ]
    },
    {
      "cell_type": "code",
      "source": [
        "latitude=22.5\n",
        "longitude=88.33\n",
        "elevation=36"
      ],
      "metadata": {
        "id": "c8NYQ2cqtARU"
      },
      "execution_count": null,
      "outputs": []
    },
    {
      "cell_type": "code",
      "source": [
        "weather_info=Point(latitude, longitude,elevation)\n",
        "data=Daily(weather_info, datetime(2022, 1, 1), datetime(2022, 12, 31))\n",
        "data=data.fetch()"
      ],
      "metadata": {
        "id": "ooDEGLDL5w8O"
      },
      "execution_count": null,
      "outputs": []
    },
    {
      "cell_type": "code",
      "source": [
        "data"
      ],
      "metadata": {
        "colab": {
          "base_uri": "https://localhost:8080/",
          "height": 455
        },
        "id": "msDOCDQ66Als",
        "outputId": "7af07609-4914-432d-ada3-db528c167432"
      },
      "execution_count": null,
      "outputs": [
        {
          "output_type": "execute_result",
          "data": {
            "text/plain": [
              "            tavg  tmin  tmax  prcp  snow   wdir  wspd  wpgt    pres  tsun\n",
              "time                                                                     \n",
              "2022-01-01  17.9  14.0  23.3   0.0   NaN  343.0   7.4   NaN  1019.3   NaN\n",
              "2022-01-02  17.5  13.4  23.6   0.0   NaN  340.0   6.8   NaN  1017.7   NaN\n",
              "2022-01-03  17.3  12.7  23.4   0.0   NaN  342.0   5.6   NaN  1016.5   NaN\n",
              "2022-01-04  17.0  12.3  23.6   0.0   NaN  357.0   5.7   NaN  1017.1   NaN\n",
              "2022-01-05  17.5  11.8  24.3   0.0   NaN  345.0   5.5   NaN  1016.4   NaN\n",
              "...          ...   ...   ...   ...   ...    ...   ...   ...     ...   ...\n",
              "2022-12-27  22.5  18.6  27.4   0.0   NaN  280.0   5.4   NaN  1014.4   NaN\n",
              "2022-12-28  21.3  17.1  26.2   0.0   NaN    3.0   5.9   NaN  1015.6   NaN\n",
              "2022-12-29  18.6  13.6  24.6   0.0   NaN    3.0   5.2   NaN  1017.5   NaN\n",
              "2022-12-30  18.7  12.8  24.8   0.0   NaN  342.0   3.8   NaN  1018.1   NaN\n",
              "2022-12-31  20.6  14.6  26.5   0.0   NaN   23.0   3.0   NaN  1017.1   NaN\n",
              "\n",
              "[365 rows x 10 columns]"
            ],
            "text/html": [
              "\n",
              "  <div id=\"df-bbecf23e-59cc-4e1a-9529-1206e4c48f5b\" class=\"colab-df-container\">\n",
              "    <div>\n",
              "<style scoped>\n",
              "    .dataframe tbody tr th:only-of-type {\n",
              "        vertical-align: middle;\n",
              "    }\n",
              "\n",
              "    .dataframe tbody tr th {\n",
              "        vertical-align: top;\n",
              "    }\n",
              "\n",
              "    .dataframe thead th {\n",
              "        text-align: right;\n",
              "    }\n",
              "</style>\n",
              "<table border=\"1\" class=\"dataframe\">\n",
              "  <thead>\n",
              "    <tr style=\"text-align: right;\">\n",
              "      <th></th>\n",
              "      <th>tavg</th>\n",
              "      <th>tmin</th>\n",
              "      <th>tmax</th>\n",
              "      <th>prcp</th>\n",
              "      <th>snow</th>\n",
              "      <th>wdir</th>\n",
              "      <th>wspd</th>\n",
              "      <th>wpgt</th>\n",
              "      <th>pres</th>\n",
              "      <th>tsun</th>\n",
              "    </tr>\n",
              "    <tr>\n",
              "      <th>time</th>\n",
              "      <th></th>\n",
              "      <th></th>\n",
              "      <th></th>\n",
              "      <th></th>\n",
              "      <th></th>\n",
              "      <th></th>\n",
              "      <th></th>\n",
              "      <th></th>\n",
              "      <th></th>\n",
              "      <th></th>\n",
              "    </tr>\n",
              "  </thead>\n",
              "  <tbody>\n",
              "    <tr>\n",
              "      <th>2022-01-01</th>\n",
              "      <td>17.9</td>\n",
              "      <td>14.0</td>\n",
              "      <td>23.3</td>\n",
              "      <td>0.0</td>\n",
              "      <td>NaN</td>\n",
              "      <td>343.0</td>\n",
              "      <td>7.4</td>\n",
              "      <td>NaN</td>\n",
              "      <td>1019.3</td>\n",
              "      <td>NaN</td>\n",
              "    </tr>\n",
              "    <tr>\n",
              "      <th>2022-01-02</th>\n",
              "      <td>17.5</td>\n",
              "      <td>13.4</td>\n",
              "      <td>23.6</td>\n",
              "      <td>0.0</td>\n",
              "      <td>NaN</td>\n",
              "      <td>340.0</td>\n",
              "      <td>6.8</td>\n",
              "      <td>NaN</td>\n",
              "      <td>1017.7</td>\n",
              "      <td>NaN</td>\n",
              "    </tr>\n",
              "    <tr>\n",
              "      <th>2022-01-03</th>\n",
              "      <td>17.3</td>\n",
              "      <td>12.7</td>\n",
              "      <td>23.4</td>\n",
              "      <td>0.0</td>\n",
              "      <td>NaN</td>\n",
              "      <td>342.0</td>\n",
              "      <td>5.6</td>\n",
              "      <td>NaN</td>\n",
              "      <td>1016.5</td>\n",
              "      <td>NaN</td>\n",
              "    </tr>\n",
              "    <tr>\n",
              "      <th>2022-01-04</th>\n",
              "      <td>17.0</td>\n",
              "      <td>12.3</td>\n",
              "      <td>23.6</td>\n",
              "      <td>0.0</td>\n",
              "      <td>NaN</td>\n",
              "      <td>357.0</td>\n",
              "      <td>5.7</td>\n",
              "      <td>NaN</td>\n",
              "      <td>1017.1</td>\n",
              "      <td>NaN</td>\n",
              "    </tr>\n",
              "    <tr>\n",
              "      <th>2022-01-05</th>\n",
              "      <td>17.5</td>\n",
              "      <td>11.8</td>\n",
              "      <td>24.3</td>\n",
              "      <td>0.0</td>\n",
              "      <td>NaN</td>\n",
              "      <td>345.0</td>\n",
              "      <td>5.5</td>\n",
              "      <td>NaN</td>\n",
              "      <td>1016.4</td>\n",
              "      <td>NaN</td>\n",
              "    </tr>\n",
              "    <tr>\n",
              "      <th>...</th>\n",
              "      <td>...</td>\n",
              "      <td>...</td>\n",
              "      <td>...</td>\n",
              "      <td>...</td>\n",
              "      <td>...</td>\n",
              "      <td>...</td>\n",
              "      <td>...</td>\n",
              "      <td>...</td>\n",
              "      <td>...</td>\n",
              "      <td>...</td>\n",
              "    </tr>\n",
              "    <tr>\n",
              "      <th>2022-12-27</th>\n",
              "      <td>22.5</td>\n",
              "      <td>18.6</td>\n",
              "      <td>27.4</td>\n",
              "      <td>0.0</td>\n",
              "      <td>NaN</td>\n",
              "      <td>280.0</td>\n",
              "      <td>5.4</td>\n",
              "      <td>NaN</td>\n",
              "      <td>1014.4</td>\n",
              "      <td>NaN</td>\n",
              "    </tr>\n",
              "    <tr>\n",
              "      <th>2022-12-28</th>\n",
              "      <td>21.3</td>\n",
              "      <td>17.1</td>\n",
              "      <td>26.2</td>\n",
              "      <td>0.0</td>\n",
              "      <td>NaN</td>\n",
              "      <td>3.0</td>\n",
              "      <td>5.9</td>\n",
              "      <td>NaN</td>\n",
              "      <td>1015.6</td>\n",
              "      <td>NaN</td>\n",
              "    </tr>\n",
              "    <tr>\n",
              "      <th>2022-12-29</th>\n",
              "      <td>18.6</td>\n",
              "      <td>13.6</td>\n",
              "      <td>24.6</td>\n",
              "      <td>0.0</td>\n",
              "      <td>NaN</td>\n",
              "      <td>3.0</td>\n",
              "      <td>5.2</td>\n",
              "      <td>NaN</td>\n",
              "      <td>1017.5</td>\n",
              "      <td>NaN</td>\n",
              "    </tr>\n",
              "    <tr>\n",
              "      <th>2022-12-30</th>\n",
              "      <td>18.7</td>\n",
              "      <td>12.8</td>\n",
              "      <td>24.8</td>\n",
              "      <td>0.0</td>\n",
              "      <td>NaN</td>\n",
              "      <td>342.0</td>\n",
              "      <td>3.8</td>\n",
              "      <td>NaN</td>\n",
              "      <td>1018.1</td>\n",
              "      <td>NaN</td>\n",
              "    </tr>\n",
              "    <tr>\n",
              "      <th>2022-12-31</th>\n",
              "      <td>20.6</td>\n",
              "      <td>14.6</td>\n",
              "      <td>26.5</td>\n",
              "      <td>0.0</td>\n",
              "      <td>NaN</td>\n",
              "      <td>23.0</td>\n",
              "      <td>3.0</td>\n",
              "      <td>NaN</td>\n",
              "      <td>1017.1</td>\n",
              "      <td>NaN</td>\n",
              "    </tr>\n",
              "  </tbody>\n",
              "</table>\n",
              "<p>365 rows × 10 columns</p>\n",
              "</div>\n",
              "    <div class=\"colab-df-buttons\">\n",
              "\n",
              "  <div class=\"colab-df-container\">\n",
              "    <button class=\"colab-df-convert\" onclick=\"convertToInteractive('df-bbecf23e-59cc-4e1a-9529-1206e4c48f5b')\"\n",
              "            title=\"Convert this dataframe to an interactive table.\"\n",
              "            style=\"display:none;\">\n",
              "\n",
              "  <svg xmlns=\"http://www.w3.org/2000/svg\" height=\"24px\" viewBox=\"0 -960 960 960\">\n",
              "    <path d=\"M120-120v-720h720v720H120Zm60-500h600v-160H180v160Zm220 220h160v-160H400v160Zm0 220h160v-160H400v160ZM180-400h160v-160H180v160Zm440 0h160v-160H620v160ZM180-180h160v-160H180v160Zm440 0h160v-160H620v160Z\"/>\n",
              "  </svg>\n",
              "    </button>\n",
              "\n",
              "  <style>\n",
              "    .colab-df-container {\n",
              "      display:flex;\n",
              "      gap: 12px;\n",
              "    }\n",
              "\n",
              "    .colab-df-convert {\n",
              "      background-color: #E8F0FE;\n",
              "      border: none;\n",
              "      border-radius: 50%;\n",
              "      cursor: pointer;\n",
              "      display: none;\n",
              "      fill: #1967D2;\n",
              "      height: 32px;\n",
              "      padding: 0 0 0 0;\n",
              "      width: 32px;\n",
              "    }\n",
              "\n",
              "    .colab-df-convert:hover {\n",
              "      background-color: #E2EBFA;\n",
              "      box-shadow: 0px 1px 2px rgba(60, 64, 67, 0.3), 0px 1px 3px 1px rgba(60, 64, 67, 0.15);\n",
              "      fill: #174EA6;\n",
              "    }\n",
              "\n",
              "    .colab-df-buttons div {\n",
              "      margin-bottom: 4px;\n",
              "    }\n",
              "\n",
              "    [theme=dark] .colab-df-convert {\n",
              "      background-color: #3B4455;\n",
              "      fill: #D2E3FC;\n",
              "    }\n",
              "\n",
              "    [theme=dark] .colab-df-convert:hover {\n",
              "      background-color: #434B5C;\n",
              "      box-shadow: 0px 1px 3px 1px rgba(0, 0, 0, 0.15);\n",
              "      filter: drop-shadow(0px 1px 2px rgba(0, 0, 0, 0.3));\n",
              "      fill: #FFFFFF;\n",
              "    }\n",
              "  </style>\n",
              "\n",
              "    <script>\n",
              "      const buttonEl =\n",
              "        document.querySelector('#df-bbecf23e-59cc-4e1a-9529-1206e4c48f5b button.colab-df-convert');\n",
              "      buttonEl.style.display =\n",
              "        google.colab.kernel.accessAllowed ? 'block' : 'none';\n",
              "\n",
              "      async function convertToInteractive(key) {\n",
              "        const element = document.querySelector('#df-bbecf23e-59cc-4e1a-9529-1206e4c48f5b');\n",
              "        const dataTable =\n",
              "          await google.colab.kernel.invokeFunction('convertToInteractive',\n",
              "                                                    [key], {});\n",
              "        if (!dataTable) return;\n",
              "\n",
              "        const docLinkHtml = 'Like what you see? Visit the ' +\n",
              "          '<a target=\"_blank\" href=https://colab.research.google.com/notebooks/data_table.ipynb>data table notebook</a>'\n",
              "          + ' to learn more about interactive tables.';\n",
              "        element.innerHTML = '';\n",
              "        dataTable['output_type'] = 'display_data';\n",
              "        await google.colab.output.renderOutput(dataTable, element);\n",
              "        const docLink = document.createElement('div');\n",
              "        docLink.innerHTML = docLinkHtml;\n",
              "        element.appendChild(docLink);\n",
              "      }\n",
              "    </script>\n",
              "  </div>\n",
              "\n",
              "\n",
              "<div id=\"df-a71478a8-7a00-4ee9-83d6-863c767c949a\">\n",
              "  <button class=\"colab-df-quickchart\" onclick=\"quickchart('df-a71478a8-7a00-4ee9-83d6-863c767c949a')\"\n",
              "            title=\"Suggest charts\"\n",
              "            style=\"display:none;\">\n",
              "\n",
              "<svg xmlns=\"http://www.w3.org/2000/svg\" height=\"24px\"viewBox=\"0 0 24 24\"\n",
              "     width=\"24px\">\n",
              "    <g>\n",
              "        <path d=\"M19 3H5c-1.1 0-2 .9-2 2v14c0 1.1.9 2 2 2h14c1.1 0 2-.9 2-2V5c0-1.1-.9-2-2-2zM9 17H7v-7h2v7zm4 0h-2V7h2v10zm4 0h-2v-4h2v4z\"/>\n",
              "    </g>\n",
              "</svg>\n",
              "  </button>\n",
              "\n",
              "<style>\n",
              "  .colab-df-quickchart {\n",
              "      --bg-color: #E8F0FE;\n",
              "      --fill-color: #1967D2;\n",
              "      --hover-bg-color: #E2EBFA;\n",
              "      --hover-fill-color: #174EA6;\n",
              "      --disabled-fill-color: #AAA;\n",
              "      --disabled-bg-color: #DDD;\n",
              "  }\n",
              "\n",
              "  [theme=dark] .colab-df-quickchart {\n",
              "      --bg-color: #3B4455;\n",
              "      --fill-color: #D2E3FC;\n",
              "      --hover-bg-color: #434B5C;\n",
              "      --hover-fill-color: #FFFFFF;\n",
              "      --disabled-bg-color: #3B4455;\n",
              "      --disabled-fill-color: #666;\n",
              "  }\n",
              "\n",
              "  .colab-df-quickchart {\n",
              "    background-color: var(--bg-color);\n",
              "    border: none;\n",
              "    border-radius: 50%;\n",
              "    cursor: pointer;\n",
              "    display: none;\n",
              "    fill: var(--fill-color);\n",
              "    height: 32px;\n",
              "    padding: 0;\n",
              "    width: 32px;\n",
              "  }\n",
              "\n",
              "  .colab-df-quickchart:hover {\n",
              "    background-color: var(--hover-bg-color);\n",
              "    box-shadow: 0 1px 2px rgba(60, 64, 67, 0.3), 0 1px 3px 1px rgba(60, 64, 67, 0.15);\n",
              "    fill: var(--button-hover-fill-color);\n",
              "  }\n",
              "\n",
              "  .colab-df-quickchart-complete:disabled,\n",
              "  .colab-df-quickchart-complete:disabled:hover {\n",
              "    background-color: var(--disabled-bg-color);\n",
              "    fill: var(--disabled-fill-color);\n",
              "    box-shadow: none;\n",
              "  }\n",
              "\n",
              "  .colab-df-spinner {\n",
              "    border: 2px solid var(--fill-color);\n",
              "    border-color: transparent;\n",
              "    border-bottom-color: var(--fill-color);\n",
              "    animation:\n",
              "      spin 1s steps(1) infinite;\n",
              "  }\n",
              "\n",
              "  @keyframes spin {\n",
              "    0% {\n",
              "      border-color: transparent;\n",
              "      border-bottom-color: var(--fill-color);\n",
              "      border-left-color: var(--fill-color);\n",
              "    }\n",
              "    20% {\n",
              "      border-color: transparent;\n",
              "      border-left-color: var(--fill-color);\n",
              "      border-top-color: var(--fill-color);\n",
              "    }\n",
              "    30% {\n",
              "      border-color: transparent;\n",
              "      border-left-color: var(--fill-color);\n",
              "      border-top-color: var(--fill-color);\n",
              "      border-right-color: var(--fill-color);\n",
              "    }\n",
              "    40% {\n",
              "      border-color: transparent;\n",
              "      border-right-color: var(--fill-color);\n",
              "      border-top-color: var(--fill-color);\n",
              "    }\n",
              "    60% {\n",
              "      border-color: transparent;\n",
              "      border-right-color: var(--fill-color);\n",
              "    }\n",
              "    80% {\n",
              "      border-color: transparent;\n",
              "      border-right-color: var(--fill-color);\n",
              "      border-bottom-color: var(--fill-color);\n",
              "    }\n",
              "    90% {\n",
              "      border-color: transparent;\n",
              "      border-bottom-color: var(--fill-color);\n",
              "    }\n",
              "  }\n",
              "</style>\n",
              "\n",
              "  <script>\n",
              "    async function quickchart(key) {\n",
              "      const quickchartButtonEl =\n",
              "        document.querySelector('#' + key + ' button');\n",
              "      quickchartButtonEl.disabled = true;  // To prevent multiple clicks.\n",
              "      quickchartButtonEl.classList.add('colab-df-spinner');\n",
              "      try {\n",
              "        const charts = await google.colab.kernel.invokeFunction(\n",
              "            'suggestCharts', [key], {});\n",
              "      } catch (error) {\n",
              "        console.error('Error during call to suggestCharts:', error);\n",
              "      }\n",
              "      quickchartButtonEl.classList.remove('colab-df-spinner');\n",
              "      quickchartButtonEl.classList.add('colab-df-quickchart-complete');\n",
              "    }\n",
              "    (() => {\n",
              "      let quickchartButtonEl =\n",
              "        document.querySelector('#df-a71478a8-7a00-4ee9-83d6-863c767c949a button');\n",
              "      quickchartButtonEl.style.display =\n",
              "        google.colab.kernel.accessAllowed ? 'block' : 'none';\n",
              "    })();\n",
              "  </script>\n",
              "</div>\n",
              "\n",
              "  <div id=\"id_4ff70a18-9069-4938-84f9-8eb5fc1e3414\">\n",
              "    <style>\n",
              "      .colab-df-generate {\n",
              "        background-color: #E8F0FE;\n",
              "        border: none;\n",
              "        border-radius: 50%;\n",
              "        cursor: pointer;\n",
              "        display: none;\n",
              "        fill: #1967D2;\n",
              "        height: 32px;\n",
              "        padding: 0 0 0 0;\n",
              "        width: 32px;\n",
              "      }\n",
              "\n",
              "      .colab-df-generate:hover {\n",
              "        background-color: #E2EBFA;\n",
              "        box-shadow: 0px 1px 2px rgba(60, 64, 67, 0.3), 0px 1px 3px 1px rgba(60, 64, 67, 0.15);\n",
              "        fill: #174EA6;\n",
              "      }\n",
              "\n",
              "      [theme=dark] .colab-df-generate {\n",
              "        background-color: #3B4455;\n",
              "        fill: #D2E3FC;\n",
              "      }\n",
              "\n",
              "      [theme=dark] .colab-df-generate:hover {\n",
              "        background-color: #434B5C;\n",
              "        box-shadow: 0px 1px 3px 1px rgba(0, 0, 0, 0.15);\n",
              "        filter: drop-shadow(0px 1px 2px rgba(0, 0, 0, 0.3));\n",
              "        fill: #FFFFFF;\n",
              "      }\n",
              "    </style>\n",
              "    <button class=\"colab-df-generate\" onclick=\"generateWithVariable('data')\"\n",
              "            title=\"Generate code using this dataframe.\"\n",
              "            style=\"display:none;\">\n",
              "\n",
              "  <svg xmlns=\"http://www.w3.org/2000/svg\" height=\"24px\"viewBox=\"0 0 24 24\"\n",
              "       width=\"24px\">\n",
              "    <path d=\"M7,19H8.4L18.45,9,17,7.55,7,17.6ZM5,21V16.75L18.45,3.32a2,2,0,0,1,2.83,0l1.4,1.43a1.91,1.91,0,0,1,.58,1.4,1.91,1.91,0,0,1-.58,1.4L9.25,21ZM18.45,9,17,7.55Zm-12,3A5.31,5.31,0,0,0,4.9,8.1,5.31,5.31,0,0,0,1,6.5,5.31,5.31,0,0,0,4.9,4.9,5.31,5.31,0,0,0,6.5,1,5.31,5.31,0,0,0,8.1,4.9,5.31,5.31,0,0,0,12,6.5,5.46,5.46,0,0,0,6.5,12Z\"/>\n",
              "  </svg>\n",
              "    </button>\n",
              "    <script>\n",
              "      (() => {\n",
              "      const buttonEl =\n",
              "        document.querySelector('#id_4ff70a18-9069-4938-84f9-8eb5fc1e3414 button.colab-df-generate');\n",
              "      buttonEl.style.display =\n",
              "        google.colab.kernel.accessAllowed ? 'block' : 'none';\n",
              "\n",
              "      buttonEl.onclick = () => {\n",
              "        google.colab.notebook.generateWithVariable('data');\n",
              "      }\n",
              "      })();\n",
              "    </script>\n",
              "  </div>\n",
              "\n",
              "    </div>\n",
              "  </div>\n"
            ]
          },
          "metadata": {},
          "execution_count": 12
        }
      ]
    },
    {
      "cell_type": "code",
      "source": [
        "DATES = pd.date_range('2022-01-01', '2022-12-31')\n",
        "N = len(DATES)\n",
        "df = pd.DataFrame(\n",
        "    {\n",
        "    'TMIN': data['tmin'].values,\n",
        "    'TMAX':data['tmax'].values,\n",
        "    'RAIN': data['prcp'].values,\n",
        "    'WIND': data['wspd'].values,\n",
        "    'SRAD': np.random.gamma(10, 1.5, len(DATES))\n",
        "    },\n",
        "    index=DATES,\n",
        ")\n",
        "df.head()\n",
        "df=df.fillna(df.mean(),axis=0)"
      ],
      "metadata": {
        "id": "-vLnL_jpyRvv"
      },
      "execution_count": null,
      "outputs": []
    },
    {
      "cell_type": "code",
      "source": [
        "help(Weather)"
      ],
      "metadata": {
        "colab": {
          "base_uri": "https://localhost:8080/"
        },
        "id": "W4ysb1_psgBQ",
        "outputId": "2bddcef4-fc67-4729-8927-9c5200948185"
      },
      "execution_count": null,
      "outputs": [
        {
          "output_type": "stream",
          "name": "stdout",
          "text": [
            "Help on class Weather in module DSSATTools.weather:\n",
            "\n",
            "class Weather(builtins.object)\n",
            " |  Weather(df: pandas.core.frame.DataFrame, pars: dict, lat: float, lon: float, elev: float, co2: int = 380)\n",
            " |  \n",
            " |  Methods defined here:\n",
            " |  \n",
            " |  __init__(self, df: pandas.core.frame.DataFrame, pars: dict, lat: float, lon: float, elev: float, co2: int = 380)\n",
            " |      Initialize a Weather instance. This instance contains the weather data,\n",
            " |      as well as the parameters that define the weather station that the data\n",
            " |      represents,nsuch as the latitude, longitude and elevation.\n",
            " |      \n",
            " |      Arguments\n",
            " |      ----------\n",
            " |      df: DataFrame\n",
            " |          pandas DataFrame with the weather data. The index of the dataframe\n",
            " |          must be datetime. A simple quality control check is performed for\n",
            " |          data. \n",
            " |      pars: dict\n",
            " |          A dictionary mapping the data columns to the Weather variables\n",
            " |          required by DSSAT. Use `DSSATTools.weather.list_weather_variables` function to\n",
            " |          have a detailed description of the DSSAT weather variables.\n",
            " |      lat, lon, elev: float\n",
            " |          Latitude, longitude and elevation of the weather station\n",
            " |      co2: float\n",
            " |          CO2 concentration (vpm). management.simulation_controls[\"CO2\"] must \n",
            " |          be set to \"W\" to use this value.\n",
            " |  \n",
            " |  __repr__(self)\n",
            " |      Return repr(self).\n",
            " |  \n",
            " |  write(self, folder: str = '', **kwargs)\n",
            " |      Writes the weather files in the provided folder. The name is defined by the dates and the Institute code (INSI).\n",
            " |      \n",
            " |      Arguments\n",
            " |      ----------\n",
            " |      folder: str\n",
            " |          Path to the folder the files will be saved.\n",
            " |  \n",
            " |  ----------------------------------------------------------------------\n",
            " |  Data descriptors defined here:\n",
            " |  \n",
            " |  __dict__\n",
            " |      dictionary for instance variables (if defined)\n",
            " |  \n",
            " |  __weakref__\n",
            " |      list of weak references to the object (if defined)\n",
            "\n"
          ]
        }
      ]
    },
    {
      "cell_type": "code",
      "source": [
        "wth = Weather(\n",
        "    df,\n",
        "    {'TMIN': 'TMIN', 'TMAX': 'TMAX', 'RAIN': 'RAIN',\n",
        "     'WIND':'WIND','SRAD':'SRAD'},\n",
        "    latitude,longitude,elevation\n",
        ")\n",
        "wth"
      ],
      "metadata": {
        "colab": {
          "base_uri": "https://localhost:8080/"
        },
        "id": "eRwgv3issqZX",
        "outputId": "7ae00d16-353f-466b-8a5a-b44375a3bb71"
      },
      "execution_count": null,
      "outputs": [
        {
          "output_type": "execute_result",
          "data": {
            "text/plain": [
              "Weather data at 88.330°, 22.500°\n",
              "  Date start: 2022-01-01\n",
              "  Date end: 2022-12-31\n",
              "Average values:\n",
              "TMIN    22.352877\n",
              "TMAX    31.269589\n",
              "RAIN     3.695868\n",
              "WIND     7.745205\n",
              "SRAD    14.871163\n",
              "dtype: float64"
            ]
          },
          "metadata": {},
          "execution_count": 16
        }
      ]
    },
    {
      "cell_type": "code",
      "source": [
        "help(SoilProfile)"
      ],
      "metadata": {
        "colab": {
          "base_uri": "https://localhost:8080/"
        },
        "id": "xWZCzsxb3STs",
        "outputId": "3e006a2a-3290-4233-f4c9-4962aab72249"
      },
      "execution_count": null,
      "outputs": [
        {
          "output_type": "stream",
          "name": "stdout",
          "text": [
            "Help on class SoilProfile in module DSSATTools.soil:\n",
            "\n",
            "class SoilProfile(builtins.object)\n",
            " |  SoilProfile(file: str = None, profile: str = None, default_class: str = None, pars: dict = {})\n",
            " |  \n",
            " |  Methods defined here:\n",
            " |  \n",
            " |  __init__(self, file: str = None, profile: str = None, default_class: str = None, pars: dict = {})\n",
            " |      Soil Profile class. It can be initialized from an existing file. It also \n",
            " |      can be initialized from scratch.  If a file is provided, then the soil is\n",
            " |      initialized as the soil profile with the matching profile id in the file.\n",
            " |      \n",
            " |      Arguments\n",
            " |      ----------\n",
            " |      file: str\n",
            " |          Optional. Path to the soil file.\n",
            " |      profile: str\n",
            " |          Optional. Must be passed if file argument is passed. It's the id of \n",
            " |          the profile within the file.\n",
            " |      pars: dict\n",
            " |          Dict with the non-layer soil parameters. \n",
            " |      default_class: str\n",
            " |          Optional. It's a string defining a DSSAT default soil class. If not \n",
            " |          None, then the SoilClass instance is initialized with the paremeters \n",
            " |          of the specified default_class. default_class must match any of the \n",
            " |          next codes: Sand=S; Loamy Sand=LS; Sandy Loam=SL; Loam=L; Silty \n",
            " |          Loam=SIL; Silt=SI; Sandy Clay Loam=SCL; Clay Loam=CL; Silty Clay \n",
            " |          Loam=SICL; Sandy Clay=SC; Silty Clay=SIC; Clay=C.\n",
            " |  \n",
            " |  __repr__(self)\n",
            " |      repr of the class defined in the DSSAT profile format.\n",
            " |  \n",
            " |  add_layer(self, layer: DSSATTools.soil.SoilLayer)\n",
            " |      Add a new layer to the Soil.\n",
            " |      \n",
            " |      Arguments\n",
            " |      ----------\n",
            " |      layer: DSSATTools.soil.SoilLayer\n",
            " |          Soil Layer object\n",
            " |  \n",
            " |  drop_layer(self, layer: int)\n",
            " |      Drop the layer at the specified depth\n",
            " |  \n",
            " |  set_parameter(self, parameter, value)\n",
            " |      Set the value of a soil parameter.\n",
            " |      \n",
            " |      Arguments\n",
            " |      ----------\n",
            " |      parameter: str\n",
            " |          Parameter name. You can use the DSSATTools.soil.list_parameters function to have a list of the parameters and their description.\n",
            " |      value: int, float, str\n",
            " |          Value for that parameter\n",
            " |  \n",
            " |  write(self, filename: str = 'SOIL.SOL')\n",
            " |      It's called by the DSSATTools.run.Dscsm.run() method to write the file.\n",
            " |      \n",
            " |      Arguments\n",
            " |      ----------\n",
            " |      filename: str\n",
            " |          Path to the file to write\n",
            " |  \n",
            " |  ----------------------------------------------------------------------\n",
            " |  Data descriptors defined here:\n",
            " |  \n",
            " |  __dict__\n",
            " |      dictionary for instance variables (if defined)\n",
            " |  \n",
            " |  __weakref__\n",
            " |      list of weak references to the object (if defined)\n",
            "\n"
          ]
        }
      ]
    },
    {
      "cell_type": "code",
      "source": [
        "soil = SoilProfile(default_class='CL')\n",
        "soil"
      ],
      "metadata": {
        "colab": {
          "base_uri": "https://localhost:8080/"
        },
        "id": "MBr68qLzyblG",
        "outputId": "913db0b9-2a16-419a-fb36-fb9f1d2a0924"
      },
      "execution_count": null,
      "outputs": [
        {
          "output_type": "execute_result",
          "data": {
            "text/plain": [
              "*IBSB910009  IBSNAT      -99     136 Norfolk Sandy Clay Loam (\n",
              "@SITE        COUNTRY          LAT     LONG SCS FAMILY\n",
              " -99         USA            -0.099   -0.099 Fine loamy,silic.,therm. Typic Paleu\n",
              "@ SCOM  SALB  SLU1  SLDR  SLRO  SLNF  SLPF  SMHB  SMPX  SMKE\n",
              "   -99  0.14   3.0  0.23  60.0  1.00  0.95 IB001 IB001 IB001\n",
              "@  SLB  SLMH  SLLL  SDUL  SSAT  SRGF  SSKS  SBDM  SLOC  SLCL  SLSI  SLCF  SLNI  SLHW  SLHB  SCEC  SADC\n",
              "     5   -99 0.042 0.169 0.392 1.000   -99  0.00  0.00   -99   -99   -99   -99   -99   -99   -99   -99\n",
              "    15   -99 0.042 0.169 0.392 1.000   -99  0.00  0.00   -99   -99   -99   -99   -99   -99   -99   -99\n",
              "    25   -99 0.042 0.169 0.392 0.779   -99  0.00  0.00   -99   -99   -99   -99   -99   -99   -99   -99\n",
              "    33   -99 0.044 0.177 0.358 0.349   -99  0.00  0.00   -99   -99   -99   -99   -99   -99   -99   -99\n",
              "    46   -99 0.056 0.165 0.396 0.209   -99  0.00  0.00   -99   -99   -99   -99   -99   -99   -99   -99\n",
              "    61   -99 0.150 0.291 0.377 0.070   -99  0.00  0.00   -99   -99   -99   -99   -99   -99   -99   -99\n",
              "    76   -99 0.150 0.291 0.377 0.070   -99  0.00  0.00   -99   -99   -99   -99   -99   -99   -99   -99\n",
              "   106   -99 0.150 0.291 0.377 0.017   -99  0.00  0.00   -99   -99   -99   -99   -99   -99   -99   -99\n",
              "   136   -99 0.150 0.291 0.377 0.000   -99  0.00  0.00   -99   -99   -99   -99   -99   -99   -99   -99"
            ]
          },
          "metadata": {},
          "execution_count": 18
        }
      ]
    },
    {
      "cell_type": "code",
      "source": [
        "'''\n",
        "Parameters to be entered after on site evaluation\n",
        "Example given below\n",
        "'''\n",
        "\n",
        "# soilprofile = SoilProfile(\n",
        "#     pars={\n",
        "#         'SALB': 0.25, # Albedo\n",
        "#         'SLU1': 6, # Stage 1 Evaporation (mm)\n",
        "#         'SLPF': 0.8 # Soil fertility factor\n",
        "#     }\n",
        "# )\n",
        "# layers = [\n",
        "#     SoilLayer(20, {'SLCL': 50, 'SLSI': 45}),\n",
        "#     SoilLayer(50, {'SLCL': 30, 'SLSI': 30}),\n",
        "#     SoilLayer(80, {'SLCL': 32, 'SLSI': 31}),\n",
        "#     SoilLayer(110, {'SLCL': 30, 'SLSI': 35}),\n",
        "#     SoilLayer(140, {'SLCL': 24, 'SLSI': 33}),\n",
        "#     SoilLayer(170, {'SLCL': 20, 'SLSI': 30})\n",
        "# ]\n",
        "# for layer in layers: soilprofile.add_layer(layer)\n",
        "# soilprofile"
      ],
      "metadata": {
        "colab": {
          "base_uri": "https://localhost:8080/",
          "height": 35
        },
        "id": "k60fECogzYHF",
        "outputId": "6a5166ca-724a-4c93-8253-78fdc9ac7554"
      },
      "execution_count": null,
      "outputs": [
        {
          "output_type": "execute_result",
          "data": {
            "text/plain": [
              "'\\nParameters to be entered after on site evaluation\\nExample given below\\n'"
            ],
            "application/vnd.google.colaboratory.intrinsic+json": {
              "type": "string"
            }
          },
          "metadata": {},
          "execution_count": 19
        }
      ]
    },
    {
      "cell_type": "code",
      "source": [
        "available_cultivars(\"Rice\")"
      ],
      "metadata": {
        "colab": {
          "base_uri": "https://localhost:8080/"
        },
        "id": "uFJ9YMnr2Hzu",
        "outputId": "e056613a-0bb2-4c73-fbfc-4e6a388889aa"
      },
      "execution_count": null,
      "outputs": [
        {
          "output_type": "execute_result",
          "data": {
            "text/plain": [
              "['999991',\n",
              " '999992',\n",
              " '990001',\n",
              " '990002',\n",
              " '990003',\n",
              " '990004',\n",
              " 'IB0003',\n",
              " 'IB0012',\n",
              " 'IB0020',\n",
              " 'IB0050',\n",
              " 'IB0055',\n",
              " 'IB0118',\n",
              " 'IB0001',\n",
              " 'IB0002',\n",
              " 'IB0004',\n",
              " 'IB0005',\n",
              " 'IB0006',\n",
              " 'IB0007',\n",
              " 'IB0008',\n",
              " 'IB0009',\n",
              " 'IB0010',\n",
              " 'IB0011',\n",
              " 'IB0013',\n",
              " 'IB0014',\n",
              " 'IB0015',\n",
              " 'IB0016',\n",
              " 'IB0017',\n",
              " 'IB0018',\n",
              " 'IB0019',\n",
              " 'IB0021',\n",
              " 'IB0022',\n",
              " 'IB0023',\n",
              " 'IB0024',\n",
              " 'IB0025',\n",
              " 'IB0026',\n",
              " 'IB0027',\n",
              " 'IB0029',\n",
              " 'IB0030',\n",
              " 'IB0031',\n",
              " 'IB0032',\n",
              " 'IB0115',\n",
              " 'IB0116',\n",
              " 'IB0117',\n",
              " 'IB0119',\n",
              " 'IB0120',\n",
              " 'IB0121',\n",
              " 'IB0122',\n",
              " 'IB0151',\n",
              " 'IB0200',\n",
              " 'IB0051',\n",
              " 'IB0052',\n",
              " 'MC0020',\n",
              " 'TR0001',\n",
              " 'TR0002',\n",
              " 'TR0003',\n",
              " 'TR0004',\n",
              " 'TR0005']"
            ]
          },
          "metadata": {},
          "execution_count": 20
        }
      ]
    },
    {
      "cell_type": "code",
      "source": [
        "help(Crop)"
      ],
      "metadata": {
        "colab": {
          "base_uri": "https://localhost:8080/"
        },
        "id": "v-bg1iWA2t-L",
        "outputId": "229409ae-7589-41f2-ecc8-1c43d022d561"
      },
      "execution_count": null,
      "outputs": [
        {
          "output_type": "stream",
          "name": "stdout",
          "text": [
            "Help on class Crop in module DSSATTools.crop:\n",
            "\n",
            "class Crop(builtins.object)\n",
            " |  Crop(crop_name: str = 'Maize', cultivar_code: str = None)\n",
            " |  \n",
            " |  Methods defined here:\n",
            " |  \n",
            " |  __init__(self, crop_name: str = 'Maize', cultivar_code: str = None)\n",
            " |      Initializes a Crop instance based on the crop name and the cultivar name.\n",
            " |      If the cultivar name is not provided then a custom cultivar will be used. \n",
            " |      \n",
            " |      The cultivar and ecotype parameters are represented by the cultivar and \n",
            " |      ecotype attribute, which is a `DSSATTools.sections.Section` instance.\n",
            " |      \n",
            " |      Arguments\n",
            " |      ----------\n",
            " |      crop: str\n",
            " |          Crop name, available at the moment: Maize, Millet, Sugarbeet, Rice,\n",
            " |          Sorghum, Sweetcorn, Alfalfa, Bermudagrass, Soybean, Canola, Sunflower,\n",
            " |          Potato, Tomato, Cabbage, Potato and Sugarcane.\n",
            " |      cultivar: str\n",
            " |          The cultivar identifier. To check the available cultivars for that\n",
            " |          crop use the DSSATTools.available_cultivars function. If a new\n",
            " |          cultivar (not in the .CUL file for that crop) is passed, then default\n",
            " |          parameters are be used.\n",
            " |  \n",
            " |  __repr__(self)\n",
            " |      Return repr(self).\n",
            " |  \n",
            " |  write(self, filepath: str = '')\n",
            " |  \n",
            " |  ----------------------------------------------------------------------\n",
            " |  Readonly properties defined here:\n",
            " |  \n",
            " |  crop_name\n",
            " |  \n",
            " |  cultivar_code\n",
            " |  \n",
            " |  ----------------------------------------------------------------------\n",
            " |  Data descriptors defined here:\n",
            " |  \n",
            " |  __dict__\n",
            " |      dictionary for instance variables (if defined)\n",
            " |  \n",
            " |  __weakref__\n",
            " |      list of weak references to the object (if defined)\n",
            "\n"
          ]
        }
      ]
    },
    {
      "cell_type": "code",
      "source": [
        "crop = Crop(\"Rice\", 'IB0001')"
      ],
      "metadata": {
        "id": "FrOBUbaSzes5"
      },
      "execution_count": null,
      "outputs": []
    },
    {
      "cell_type": "code",
      "source": [
        "help(Management)"
      ],
      "metadata": {
        "colab": {
          "base_uri": "https://localhost:8080/"
        },
        "id": "aT7jOVWK3l4O",
        "outputId": "3f531c48-c30c-4fce-8283-1bfd6f23e487"
      },
      "execution_count": null,
      "outputs": [
        {
          "output_type": "stream",
          "name": "stdout",
          "text": [
            "Help on class Management in module DSSATTools.management:\n",
            "\n",
            "class Management(builtins.object)\n",
            " |  Management(planting_date: datetime.datetime, sim_start: datetime.datetime = None, emergence_date: datetime.datetime = None, initial_swc: float = 0.5, irrigation='N', fertilization='N', harvest='M', organic_matter='G')\n",
            " |  \n",
            " |  Methods defined here:\n",
            " |  \n",
            " |  __init__(self, planting_date: datetime.datetime, sim_start: datetime.datetime = None, emergence_date: datetime.datetime = None, initial_swc: float = 0.5, irrigation='N', fertilization='N', harvest='M', organic_matter='G')\n",
            " |      Initializes a management instance.\n",
            " |      \n",
            " |      Arguments\n",
            " |      ----------\n",
            " |      planting_date: datetime\n",
            " |          Planting date.\n",
            " |      sim_start: datetime\n",
            " |          Date for start of the simulation. If None, it'll be calculated as the\n",
            " |          previous day to the planting date.\n",
            " |      emergence_date: datetime\n",
            " |          Emergence date. If None, I'll be calculated as 5 days after planting.\n",
            " |      initial_swc: int\n",
            " |          Fraction of the total available water (FC - PWP) at the start of the\n",
            " |          simulation. .5(50%) is the default value.\n",
            " |      irrigation: str\n",
            " |          Default 'N'. Irrigation management option, options available are:\n",
            " |              A        Automatic when required\n",
            " |              N        Not irrigated\n",
            " |              F        Fixed amount automatic\n",
            " |              R        On reported dates\n",
            " |              D        Days after planting\n",
            " |              P        As reported through last day, then automatic to re-fill (A)\n",
            " |              W        As reported through last day, then automatic with fixed\n",
            " |                      amount (F)\n",
            " |      harvest: str\n",
            " |          Default 'M'. Harvest management options. available options are:\n",
            " |              A        Automatic      \n",
            " |              M        At maturity\n",
            " |              R        On reported date(s)\n",
            " |              D        Days after planting\n",
            " |      fertilization: str\n",
            " |          Default 'N'. Fertilization management options. available options are:\n",
            " |              N        Not fertilized\n",
            " |              R        On reported dates\n",
            " |              D        Days after planting\n",
            " |      organic_matter: str\n",
            " |          Default 'G'. Fertilization management options. available options are:\n",
            " |              G        Ceres (Godiwn)\n",
            " |              P        Century (Parton)\n",
            " |  \n",
            " |  __repr__(self)\n",
            " |      Return repr(self).\n",
            " |  \n",
            " |  write(self, filename='EXP', expname='DEFAULT')\n",
            " |  \n",
            " |  write_mow(self, filename)\n",
            " |  \n",
            " |  ----------------------------------------------------------------------\n",
            " |  Data descriptors defined here:\n",
            " |  \n",
            " |  __dict__\n",
            " |      dictionary for instance variables (if defined)\n",
            " |  \n",
            " |  __weakref__\n",
            " |      list of weak references to the object (if defined)\n",
            "\n"
          ]
        }
      ]
    },
    {
      "cell_type": "code",
      "source": [
        "'''\n",
        "Parameters to be found during on site evaluation\n",
        "'''\n",
        "\n",
        "man = Management(\n",
        "    planting_date=DATES[10],fertilization='R'\n",
        ")\n",
        "# Modify irrigation to irrigated\n",
        "man.simulation_controls['IRRIG'] = \"D\""
      ],
      "metadata": {
        "id": "E3DuRvBtziV7"
      },
      "execution_count": null,
      "outputs": []
    },
    {
      "cell_type": "code",
      "source": [
        "dssat = DSSAT()\n",
        "dssat.setup()\n",
        "dssat.run(\n",
        "    soil=soil, weather=wth, crop=crop, management=man,\n",
        ")\n",
        "output = dssat.output['PlantGro']"
      ],
      "metadata": {
        "colab": {
          "base_uri": "https://localhost:8080/"
        },
        "id": "IifeXfABzoVW",
        "outputId": "af11b83f-7cf6-400a-8776-15bf8c00b3a0"
      },
      "execution_count": null,
      "outputs": [
        {
          "output_type": "stream",
          "name": "stdout",
          "text": [
            "/tmp/dssatxceaqlrr created.\n",
            "Static files copied to /tmp/dssatxceaqlrr.\n",
            "RUN    TRT FLO MAT TOPWT HARWT  RAIN  TIRR   CET  PESW  TNUP  TNLF   TSON TSOC\n",
            "           dap dap kg/ha kg/ha    mm    mm    mm    mm kg/ha kg/ha  kg/ha t/ha\n",
            "  1 RI   1  62  97   363   138    32     0    66    58     0   -99      0  157\n"
          ]
        }
      ]
    },
    {
      "cell_type": "code",
      "source": [
        "'''\n",
        "Parameters to be found during on site evaluation\n",
        "'''\n",
        "\n",
        "man = Management(\n",
        "    planting_date=DATES[10],fertilization='N'\n",
        ")\n",
        "# Modify irrigation to non-irrigated\n",
        "man.simulation_controls['IRRIG'] = \"N\""
      ],
      "metadata": {
        "id": "sFVyeNOt_N70"
      },
      "execution_count": null,
      "outputs": []
    },
    {
      "cell_type": "code",
      "source": [
        "crop.cultivar['P1'] = 50\n",
        "dssat.run(\n",
        "    soil=soil, weather=wth, crop=crop, management=man,\n",
        ")\n",
        "output_2 = dssat.output['PlantGro']"
      ],
      "metadata": {
        "colab": {
          "base_uri": "https://localhost:8080/"
        },
        "id": "6D8o17ZFBpNJ",
        "outputId": "56678f23-2558-432b-b53b-6d471e9dee18"
      },
      "execution_count": null,
      "outputs": [
        {
          "output_type": "stream",
          "name": "stdout",
          "text": [
            "RUN    TRT FLO MAT TOPWT HARWT  RAIN  TIRR   CET  PESW  TNUP  TNLF   TSON TSOC\n",
            "           dap dap kg/ha kg/ha    mm    mm    mm    mm kg/ha kg/ha  kg/ha t/ha\n",
            "  1 RI   1  62  97   363   138    32     0    66    58     0   -99      0  157\n"
          ]
        }
      ]
    },
    {
      "cell_type": "code",
      "source": [],
      "metadata": {
        "id": "DiZ9R5zg0KXC"
      },
      "execution_count": null,
      "outputs": []
    },
    {
      "cell_type": "code",
      "source": [
        "import pickle\n",
        "with open(\"/content/rice_future.pkl\", \"rb\") as f:\n",
        "    rice_prices = pickle.load(f)"
      ],
      "metadata": {
        "id": "tliTgtms0taj"
      },
      "execution_count": null,
      "outputs": []
    },
    {
      "cell_type": "code",
      "source": [
        "rice_prices"
      ],
      "metadata": {
        "colab": {
          "base_uri": "https://localhost:8080/"
        },
        "id": "OLEVz2fgAnmi",
        "outputId": "d25ac21d-77b5-4ae2-8fa9-08f933876bf3"
      },
      "execution_count": null,
      "outputs": [
        {
          "output_type": "execute_result",
          "data": {
            "text/plain": [
              "[array([[2206.1577]], dtype=float32),\n",
              " array([[2357.1836]], dtype=float32),\n",
              " array([[2432.185]], dtype=float32),\n",
              " array([[2534.6223]], dtype=float32),\n",
              " array([[2680.2983]], dtype=float32)]"
            ]
          },
          "metadata": {},
          "execution_count": 147
        }
      ]
    },
    {
      "cell_type": "code",
      "source": [
        "average_price={\"wheat\": 41463,\n",
        "               \"rice\": 39614}\n",
        "average_cost_of_production={\"wheat\": 20563,\n",
        "                            \"rice\": 19654}"
      ],
      "metadata": {
        "id": "fH5Gg8-hBKfY"
      },
      "execution_count": null,
      "outputs": []
    },
    {
      "cell_type": "code",
      "source": [
        "final_yields=output.CWAD.values\n",
        "final_yield=final_yields[-1]/1000"
      ],
      "metadata": {
        "id": "fVVWogDKB69y"
      },
      "execution_count": null,
      "outputs": []
    },
    {
      "cell_type": "code",
      "source": [
        "final_yield"
      ],
      "metadata": {
        "colab": {
          "base_uri": "https://localhost:8080/"
        },
        "id": "QWV-Ai1uCI_7",
        "outputId": "2b06cecc-7f7f-4fd2-d513-540470105b20"
      },
      "execution_count": null,
      "outputs": [
        {
          "output_type": "execute_result",
          "data": {
            "text/plain": [
              "1.365"
            ]
          },
          "metadata": {},
          "execution_count": 151
        }
      ]
    },
    {
      "cell_type": "code",
      "source": [
        "area=2"
      ],
      "metadata": {
        "id": "xQd-bXiNCWya"
      },
      "execution_count": null,
      "outputs": []
    },
    {
      "cell_type": "code",
      "source": [
        "income=area*final_yield*(average_price[\"rice\"]-average_cost_of_production[\"rice\"])\n",
        "print(income)"
      ],
      "metadata": {
        "colab": {
          "base_uri": "https://localhost:8080/"
        },
        "id": "b7LXtXH_CKub",
        "outputId": "6f18b117-ac57-4974-e102-6954ca5a519d"
      },
      "execution_count": null,
      "outputs": [
        {
          "output_type": "stream",
          "name": "stdout",
          "text": [
            "54490.8\n"
          ]
        }
      ]
    },
    {
      "cell_type": "code",
      "source": [
        "amount_requested=10000"
      ],
      "metadata": {
        "id": "7MxFu7KcCbd3"
      },
      "execution_count": null,
      "outputs": []
    },
    {
      "cell_type": "code",
      "source": [
        "def score(req,income):\n",
        "  ratio=req/income\n",
        "  c=50 # Parameter\n",
        "  return 100*((c**ratio)-1)/((c**ratio)+1)"
      ],
      "metadata": {
        "id": "za8Q0-cnDE8s"
      },
      "execution_count": null,
      "outputs": []
    },
    {
      "cell_type": "code",
      "source": [
        "final_score=score(amount_requested,income)"
      ],
      "metadata": {
        "id": "f424qJLNCUTe"
      },
      "execution_count": null,
      "outputs": []
    },
    {
      "cell_type": "code",
      "source": [
        "final_score"
      ],
      "metadata": {
        "colab": {
          "base_uri": "https://localhost:8080/"
        },
        "id": "Jef0aux9Cg1m",
        "outputId": "4090dffe-5f2f-411a-87db-b6cfc3d1259a"
      },
      "execution_count": null,
      "outputs": [
        {
          "output_type": "execute_result",
          "data": {
            "text/plain": [
              "0.3442992216266966"
            ]
          },
          "metadata": {},
          "execution_count": 179
        }
      ]
    },
    {
      "cell_type": "code",
      "source": [],
      "metadata": {
        "id": "QIilPHQZE2a5"
      },
      "execution_count": null,
      "outputs": []
    }
  ]
}