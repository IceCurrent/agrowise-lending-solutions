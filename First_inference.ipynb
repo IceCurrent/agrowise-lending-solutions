{
  "nbformat": 4,
  "nbformat_minor": 0,
  "metadata": {
    "colab": {
      "provenance": []
    },
    "kernelspec": {
      "name": "python3",
      "display_name": "Python 3"
    },
    "language_info": {
      "name": "python"
    }
  },
  "cells": [
    {
      "cell_type": "code",
      "execution_count": null,
      "metadata": {
        "id": "W-aFzDxCoGwC"
      },
      "outputs": [],
      "source": [
        "import numpy as np\n",
        "import pandas as pd\n",
        "import math"
      ]
    },
    {
      "cell_type": "code",
      "source": [
        "aadhar = input(\"Enter aadhar number: \")\n",
        "district=input(\"Enter district: \")\n",
        "state=input(\"Enter state: \")\n",
        "crop=input(\"Crop grown: \")\n",
        "area=int(input(\"Area of land(hectares): \"))\n",
        "season_of_crop=input(\"Season of crop: \")\n",
        "fertilizer=input(\"Fertilizer applied or not: \")\n",
        "pesticide=input(\"Pesticide applied or not: \")"
      ],
      "metadata": {
        "colab": {
          "base_uri": "https://localhost:8080/"
        },
        "id": "u7neB7vooVnJ",
        "outputId": "cef7e3f7-0c60-47ba-e595-c270f32f6e3b"
      },
      "execution_count": null,
      "outputs": [
        {
          "name": "stdout",
          "output_type": "stream",
          "text": [
            "Enter aadhar number012345678912\n",
            "Enter districtkharagpur\n",
            "Enter stateWest Bengal\n",
            "Crop grownwheat\n",
            "Area of land2\n",
            "Season of croprabi\n",
            "Enter fertilizer1000\n",
            "Enter pesticide1000\n"
          ]
        }
      ]
    },
    {
      "cell_type": "code",
      "source": [
        "amount_requested=int(input(\"Enter loan amount: \"))\n",
        "interest=int(input(\"Enter interest rate: \"))"
      ],
      "metadata": {
        "colab": {
          "base_uri": "https://localhost:8080/"
        },
        "id": "JG7n8LFLpg2Q",
        "outputId": "aacaa77b-9a5b-4337-b4a2-578e6845731c"
      },
      "execution_count": null,
      "outputs": [
        {
          "name": "stdout",
          "output_type": "stream",
          "text": [
            "Enter loan amount10000\n",
            "Enter duration2\n",
            "Enter interest rate3\n"
          ]
        }
      ]
    },
    {
      "cell_type": "code",
      "source": [
        "area=int(area)/2.47"
      ],
      "metadata": {
        "id": "N5X5WaGVz013"
      },
      "execution_count": null,
      "outputs": []
    },
    {
      "cell_type": "code",
      "source": [
        "continue_to_next_inference=1"
      ],
      "metadata": {
        "id": "4JLVe-CjpTOA"
      },
      "execution_count": null,
      "outputs": []
    },
    {
      "cell_type": "code",
      "source": [
        "def check_aadhar(aadhar_no):\n",
        "    if len(aadhar_no)==12: # Basic aadhar checking\n",
        "        return True\n",
        "    else:\n",
        "        return False"
      ],
      "metadata": {
        "id": "2G_-b3mfpRho"
      },
      "execution_count": null,
      "outputs": []
    },
    {
      "cell_type": "code",
      "source": [
        "if(check_aadhar(aadhar)==False):\n",
        "  continue_to_next_inference=0"
      ],
      "metadata": {
        "id": "jV3l7z9i0AP0"
      },
      "execution_count": null,
      "outputs": []
    },
    {
      "cell_type": "code",
      "source": [
        "average_yield={\"wheat\": 2.64,\n",
        "               \"rice\": 3.46,}"
      ],
      "metadata": {
        "id": "eaPS2uy2t1xC"
      },
      "execution_count": null,
      "outputs": []
    },
    {
      "cell_type": "code",
      "source": [
        "# https://pib.gov.in/PressReleasePage.aspx?PRID=1657457#:~:text=The%20highest%20increase%20in%20MSP%20has%20been%20announced,Rs%2050%20per%20quintal%20respectively%20has%20been%20announced.\n",
        "# https://static.pib.gov.in/WriteReadData/specificdocs/documents/2021/sep/doc202191311.pdf"
      ],
      "metadata": {
        "id": "-iaEZO7Fv615"
      },
      "execution_count": null,
      "outputs": []
    },
    {
      "cell_type": "code",
      "source": [
        "average_price={\"wheat\": 41463,\n",
        "               \"rice\": 39614}\n",
        "average_cost_of_production={\"wheat\": 20563,\n",
        "                            \"rice\": 19654}"
      ],
      "metadata": {
        "id": "NdPOWYxDvTmC"
      },
      "execution_count": null,
      "outputs": []
    },
    {
      "cell_type": "code",
      "source": [
        "average_income=0"
      ],
      "metadata": {
        "id": "FgxFh1euuwqZ"
      },
      "execution_count": null,
      "outputs": []
    },
    {
      "cell_type": "code",
      "source": [
        "if(crop==\"wheat\"):\n",
        "  average_income=area*average_yield[\"wheat\"]*(average_price[\"wheat\"]-average_cost_of_production[\"wheat\"])\n",
        "if(crop==\"rice\"):\n",
        "  average_income=area*average_yield[\"rice\"]*(average_price[\"rice\"]-average_cost_of_production[\"rice\"])"
      ],
      "metadata": {
        "id": "6IqcG6Iiul5q"
      },
      "execution_count": null,
      "outputs": []
    },
    {
      "cell_type": "code",
      "source": [
        "amount_requested=10000"
      ],
      "metadata": {
        "id": "tlaBeIJt0uu9"
      },
      "execution_count": null,
      "outputs": []
    },
    {
      "cell_type": "code",
      "source": [
        "average_income"
      ],
      "metadata": {
        "colab": {
          "base_uri": "https://localhost:8080/"
        },
        "id": "IeTHAGEd0Rw7",
        "outputId": "a619f001-bcb9-41dc-a972-c8e7bc977510"
      },
      "execution_count": null,
      "outputs": [
        {
          "output_type": "execute_result",
          "data": {
            "text/plain": [
              "44676.92307692308"
            ]
          },
          "metadata": {},
          "execution_count": 174
        }
      ]
    },
    {
      "cell_type": "code",
      "source": [
        "def score(req,income):\n",
        "  ratio=req/income\n",
        "  c=50 # Parameter\n",
        "  return 100*((c**ratio)-1)/((c**ratio)+1)"
      ],
      "metadata": {
        "id": "6hTNYqxiD8yj"
      },
      "execution_count": null,
      "outputs": []
    },
    {
      "cell_type": "code",
      "source": [
        "if(continue_to_next_inference!=0):\n",
        "  final_score=score(amount_requested,average_income)\n",
        "  if(final_score>0.8):\n",
        "    continue_to_next_inference=0"
      ],
      "metadata": {
        "id": "fmMftYs1xeDf"
      },
      "execution_count": null,
      "outputs": []
    },
    {
      "cell_type": "code",
      "source": [
        "if(continue_to_next_inference):\n",
        "  print(\"Move to next stage\")\n",
        "else:\n",
        "  print(\"Loan rejected\")"
      ],
      "metadata": {
        "colab": {
          "base_uri": "https://localhost:8080/"
        },
        "id": "3nOfOwZIzYZk",
        "outputId": "6b1333b0-1efc-473f-a3ab-16cb86ce22c1"
      },
      "execution_count": null,
      "outputs": [
        {
          "output_type": "stream",
          "name": "stdout",
          "text": [
            "Move to next stage\n"
          ]
        }
      ]
    }
  ]
}